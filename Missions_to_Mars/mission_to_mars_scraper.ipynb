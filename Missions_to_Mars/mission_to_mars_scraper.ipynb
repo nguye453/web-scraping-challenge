{
 "cells": [
  {
   "cell_type": "code",
   "execution_count": 5,
   "metadata": {},
   "outputs": [],
   "source": [
    "#dependencies\n",
    "import pandas as pd\n",
    "from bs4 import BeautifulSoup\n",
    "from splinter import Browser\n",
    "import requests\n",
    "from webdriver_manager.chrome import ChromeDriverManager\n",
    "import pymongo"
   ]
  },
  {
   "cell_type": "markdown",
   "metadata": {},
   "source": [
    "### NASA Mars News\n",
    "##### Scrape the [Mars News Site](https://redplanetscience.com/) and collect the latest News Title and Paragraph Text. Assign the text to variables that you can reference later."
   ]
  },
  {
   "cell_type": "code",
   "execution_count": 6,
   "metadata": {},
   "outputs": [
    {
     "name": "stderr",
     "output_type": "stream",
     "text": [
      "\n",
      "\n",
      "====== WebDriver manager ======\n",
      "Current google-chrome version is 90.0.4430\n",
      "Get LATEST driver version for 90.0.4430\n",
      "Driver [C:\\Users\\Jeff\\.wdm\\drivers\\chromedriver\\win32\\90.0.4430.24\\chromedriver.exe] found in cache\n"
     ]
    }
   ],
   "source": [
    "executable_path = {'executable_path': ChromeDriverManager().install()}\n",
    "browser = Browser('chrome', **executable_path, headless=False)"
   ]
  },
  {
   "cell_type": "code",
   "execution_count": 7,
   "metadata": {},
   "outputs": [],
   "source": [
    "url = 'https://redplanetscience.com/'\n",
    "browser.visit(url)"
   ]
  },
  {
   "cell_type": "code",
   "execution_count": 45,
   "metadata": {},
   "outputs": [
    {
     "name": "stdout",
     "output_type": "stream",
     "text": [
      "Title: Scientists Explore Outback as Testbed for Mars \n",
      "Text: Australia provides a great place for NASA's Mars 2020 and the ESA-Roscosmos ExoMars scientists to hone techniques in preparation for searching for signs ancient life on Mars.\n",
      "\n",
      "Title: Hear Audio From NASA's Perseverance As It Travels Through Deep Space\n",
      "Text: The first to be rigged with microphones, the agency's latest Mars rover picked up the subtle sounds of its own inner workings during interplanetary flight.\n",
      "\n",
      "Title: Mars Scientists Investigate Ancient Life in Australia\n",
      "Text: Teams with NASA's Mars 2020 and ESA's ExoMars practiced hunting for fossilized microbial life in the Australian Outback in preparation for their Red Planet missions. \n",
      "\n",
      "Title: Heat and Dust Help Launch Martian Water Into Space, Scientists Find\n",
      "Text: Scientists using an instrument aboard NASA’s Mars Atmosphere and Volatile EvolutioN, or MAVEN, spacecraft have discovered that water vapor near the surface of the Red Planet is lofted higher into the atmosphere than anyone expected was possible. \n",
      "\n",
      "Title: The Detective Aboard NASA's Perseverance Rover\n",
      "Text: An instrument called SHERLOC will, with the help of its partner WATSON, hunt for signs of ancient life by detecting organic molecules and minerals.\n",
      "\n",
      "Title: The Extraordinary Sample-Gathering System of NASA's Perseverance Mars Rover\n",
      "Text: Two astronauts collected Moon rocks on Apollo 11. It will take three robotic systems working together to gather up the first Mars rock samples for return to Earth.\n",
      "\n",
      "Title: Mars 2020 Stands on Its Own Six Wheels\n",
      "Text: In time-lapse video, taken at JPL, captures the first time NASA's Mars 2020 rover carries its full weight on its legs and wheels.\n",
      "\n",
      "Title: NASA Mars Mission Connects With Bosnian and Herzegovinian Town\n",
      "Text: A letter from NASA was presented to the mayor of Jezero, Bosnia-Herzegovina, honoring the connection between the town and Jezero Crater, the Mars 2020 rover landing site.\n",
      "\n",
      "Title: NASA's Perseverance Rover Will Carry First Spacesuit Materials to Mars\n",
      "Text: In a Q&A, spacesuit designer Amy Ross explains how five samples, including a piece of helmet visor, will be tested aboard the rover, which is targeting a July 30 launch. \n",
      "\n",
      "Title: NASA's New Mars Rover Will Use X-Rays to Hunt Fossils\n",
      "Text: PIXL, an instrument on the end of the Perseverance rover's arm, will search for chemical fingerprints left by ancient microbes.\n",
      "\n",
      "Title: Air Deliveries Bring NASA's Perseverance Mars Rover Closer to Launch\n",
      "Text: A NASA Wallops Flight Facility cargo plane transported more than two tons of equipment — including the rover's sample collection tubes — to Florida for this summer's liftoff.\n",
      "\n",
      "Title: NASA Establishes Board to Initially Review Mars Sample Return Plans\n",
      "Text: The board will assist with analysis of current plans and goals for one of the most difficult missions humanity has ever undertaken.\n",
      "\n",
      "Title: Q&A with the Student Who Named Ingenuity, NASA's Mars Helicopter\n",
      "Text: As a longtime fan of space exploration, Vaneeza Rupani appreciates the creativity and collaboration involved with trying to fly on another planet.\n",
      "\n",
      "Title: Two of a Space Kind: Apollo 12 and Mars 2020\n",
      "Text: Apollo 12 and the upcoming Mars 2020 mission may be separated by half a century, but they share several goals unique in the annals of space exploration.\n",
      "\n",
      "Title: Join NASA for the Launch of the Mars 2020 Perseverance Rover\n",
      "Text: No matter where you live, choose from a menu of activities to join NASA as we \"Countdown to Mars\" and launch the Perseverance rover to the Red Planet.\n",
      "\n"
     ]
    }
   ],
   "source": [
    "html = browser.html\n",
    "soup = BeautifulSoup(html, 'html.parser')\n",
    "\n",
    "articles = soup.find_all('div', class_='list_text')\n",
    "\n",
    "article_content = []\n",
    "\n",
    "for article in articles:\n",
    "    article_title = article.find('div', class_='content_title').text\n",
    "    print(f'Title: {article_title}')\n",
    "    teaser_text = article.find('div', class_='article_teaser_body').text\n",
    "    print(f'Text: {teaser_text}\\n')\n",
    "    content = dict({'Title':article_title, 'Text':teaser_text})\n",
    "    article_content.append(content)"
   ]
  },
  {
   "cell_type": "markdown",
   "metadata": {},
   "source": [
    "### JPL Mars Space Images - Featured Image\n",
    "##### Visit the url for the Featured Space Image site [here](https://spaceimages-mars.com).\n",
    "\n",
    "##### Use splinter to navigate the site and find the image url for the current Featured Mars Image and assign the url string to a variable called `featured_image_url`.\n",
    "\n",
    "##### Make sure to find the image url to the full size `.jpg` image.\n",
    "\n",
    "##### Make sure to save a complete url string for this image."
   ]
  },
  {
   "cell_type": "code",
   "execution_count": null,
   "metadata": {},
   "outputs": [],
   "source": []
  }
 ],
 "metadata": {
  "kernelspec": {
   "display_name": "Python [conda env:PythonData]",
   "language": "python",
   "name": "conda-env-PythonData-py"
  },
  "language_info": {
   "codemirror_mode": {
    "name": "ipython",
    "version": 3
   },
   "file_extension": ".py",
   "mimetype": "text/x-python",
   "name": "python",
   "nbconvert_exporter": "python",
   "pygments_lexer": "ipython3",
   "version": "3.6.10"
  }
 },
 "nbformat": 4,
 "nbformat_minor": 4
}
